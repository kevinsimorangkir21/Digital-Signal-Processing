{
 "cells": [
  {
   "cell_type": "markdown",
   "metadata": {},
   "source": [
    "# Working With Audio\n",
    "\n",
    "## Introduction\n",
    "In this hands-on, we will learn how to work with audio using Python.\n",
    "- Make sure the active environment in this jupyter notebook is appropriate\n",
    "\n",
    "## Learn Code\n",
    "IF 3024\n",
    "\n",
    "## Learn Date\n",
    "Wednesday, 11 September 2024\n",
    "\n",
    "## Library Tool Command\n",
    "'!pip install matplotlib numpy wave"
   ]
  }
 ],
 "metadata": {
  "language_info": {
   "name": "python"
  }
 },
 "nbformat": 4,
 "nbformat_minor": 2
}
