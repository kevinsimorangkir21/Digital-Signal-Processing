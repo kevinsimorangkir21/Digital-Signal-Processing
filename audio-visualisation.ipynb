{
 "cells": [
  {
   "cell_type": "markdown",
   "metadata": {},
   "source": [
    "# Working With Audio\n",
    "\n",
    "## Introduction\n",
    "In this hands-on, we will learn how to work with audio using Python.\n",
    "- Make sure the active environment in this jupyter notebook is appropriate\n",
    "\n",
    "## Learn Code\n",
    "IF 3024\n",
    "\n",
    "## Learn Date\n",
    "Wednesday, 11 September 2024\n",
    "\n",
    "## Library Tool Command\n",
    "'!pip install matplotlib numpy wave"
   ]
  },
  {
   "cell_type": "code",
   "execution_count": null,
   "metadata": {
    "vscode": {
     "languageId": "plaintext"
    }
   },
   "outputs": [],
   "source": [
    "import numpy as np \n",
    "import matplotlib.pyplot as plt \n",
    "import os\n",
    "import wave"
   ]
  },
  {
   "cell_type": "markdown",
   "metadata": {},
   "source": [
    "## Memuat File Audio\n",
    "File audio dapat didowload melalui Youtube yang diconvert dari mp4 ke mp3 melalui extension. playlist file audio Youtube dapat diakses di https://www.youtube.com/playlist?list=PLTlghO_nzap2Jty3v5V6jFdQU_RA8wb5O"
   ]
  },
  {
   "cell_type": "code",
   "execution_count": null,
   "metadata": {
    "vscode": {
     "languageId": "plaintext"
    }
   },
   "outputs": [],
   "source": [
    "file_path = os.path.join(os.getcwd(), 'data', 'harvard.wav')\n",
    "\n",
    "# check jika file tidak ada\n",
    "if not os.path.exists(file_path):\n",
    "    print('File tidak ditemukan')\n",
    "    exit()"
   ]
  },
  {
   "cell_type": "code",
   "execution_count": null,
   "metadata": {
    "vscode": {
     "languageId": "plaintext"
    }
   },
   "outputs": [],
   "source": []
  }
 ],
 "metadata": {
  "language_info": {
   "name": "python"
  }
 },
 "nbformat": 4,
 "nbformat_minor": 2
}
