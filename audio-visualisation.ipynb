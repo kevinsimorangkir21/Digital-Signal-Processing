{
 "cells": [
  {
   "cell_type": "markdown",
   "metadata": {},
   "source": [
    "# Working With Audio\n",
    "\n",
    "## Introduction\n",
    "In this hands-on, we will learn how to work with audio using Python.\n",
    "- Make sure the active environment in this jupyter notebook is appropriate\n",
    "\n",
    "## Learn Code\n",
    "IF 3024\n",
    "\n",
    "## Learn Date\n",
    "Wednesday, 11 September 2024\n",
    "\n",
    "## Library Tool Command\n",
    "'!pip install matplotlib numpy wave"
   ]
  },
  {
   "cell_type": "code",
   "execution_count": 5,
   "metadata": {},
   "outputs": [
    {
     "ename": "ModuleNotFoundError",
     "evalue": "No module named 'matplotlib'",
     "output_type": "error",
     "traceback": [
      "\u001b[1;31m---------------------------------------------------------------------------\u001b[0m",
      "\u001b[1;31mModuleNotFoundError\u001b[0m                       Traceback (most recent call last)",
      "Cell \u001b[1;32mIn[5], line 1\u001b[0m\n\u001b[1;32m----> 1\u001b[0m \u001b[38;5;28;01mimport\u001b[39;00m \u001b[38;5;21;01mmatplotlib\u001b[39;00m\u001b[38;5;21;01m.\u001b[39;00m\u001b[38;5;21;01mpyplot\u001b[39;00m \u001b[38;5;28;01mas\u001b[39;00m \u001b[38;5;21;01mplt\u001b[39;00m\n\u001b[0;32m      2\u001b[0m \u001b[38;5;28;01mimport\u001b[39;00m \u001b[38;5;21;01mnumpy\u001b[39;00m \u001b[38;5;28;01mas\u001b[39;00m \u001b[38;5;21;01mnp\u001b[39;00m\n\u001b[0;32m      3\u001b[0m \u001b[38;5;28;01mimport\u001b[39;00m \u001b[38;5;21;01mos\u001b[39;00m\n",
      "\u001b[1;31mModuleNotFoundError\u001b[0m: No module named 'matplotlib'"
     ]
    }
   ],
   "source": [
    "import matplotlib.pyplot as plt\n",
    "import numpy as np\n",
    "import os\n",
    "import wave"
   ]
  },
  {
   "cell_type": "markdown",
   "metadata": {},
   "source": [
    "## Memuat File Audio\n",
    "File audio dapat didowload melalui Youtube yang diconvert dari mp4 ke mp3 melalui extension. playlist file audio Youtube dapat diakses di https://www.youtube.com/playlist?list=PLTlghO_nzap2Jty3v5V6jFdQU_RA8wb5O"
   ]
  },
  {
   "cell_type": "code",
   "execution_count": null,
   "metadata": {},
   "outputs": [],
   "source": [
    "file_path = os.path.join(os.getcwd(), 'data', 'audio1.wav') #filePath\n",
    "if not os.path.exists(file_path): #tandaTidakDitemukanFile\n",
    "    print('File tidak ditemukan')\n",
    "    exit()"
   ]
  },
  {
   "cell_type": "markdown",
   "metadata": {},
   "source": [
    "#### Menggunakan `wave` untuk membuka file audio yang di download.\n",
    "\n",
    "**Apa Itu Waveform?**\n",
    "\n",
    "**Waveform** adalah representasi visual dari gelombang suara atau sinyal audio dalam domain waktu. Dalam grafik waveform, sumbu horizontal (x) biasanya mewakili waktu, sedangkan sumbu vertikal (y) mewakili amplitudo sinyal audio pada waktu tertentu. Dengan kata lain, waveform menunjukkan bagaimana amplitudo suara berubah seiring berjalannya waktu.\n",
    "\n",
    "Waveform memberikan informasi penting tentang karakteristik audio, seperti:\n",
    "- **Amplitudo**: Ketinggian atau intensitas gelombang suara. Amplitudo tinggi biasanya terkait dengan suara yang lebih keras.\n",
    "- **Frekuensi**: Jumlah siklus gelombang per detik. Meskipun waveform sendiri tidak langsung menunjukkan frekuensi, pola-pola dalam waveform bisa memberikan indikasi tentang frekuensi sinyal.\n",
    "- **Durasi**: Panjang waktu sinyal audio.\n",
    "\n",
    "**Tentang Package `wave`**\n",
    "\n",
    "`import wave` adalah modul dalam Python yang digunakan untuk membaca dan menulis file audio dalam format WAV. Format WAV adalah format audio yang tidak terkompresi, yang berarti data audio disimpan dalam bentuk aslinya tanpa pengurangan kualitas."
   ]
  },
  {
   "cell_type": "code",
   "execution_count": 1,
   "metadata": {},
   "outputs": [
    {
     "ename": "NameError",
     "evalue": "name 'wave' is not defined",
     "output_type": "error",
     "traceback": [
      "\u001b[1;31m---------------------------------------------------------------------------\u001b[0m",
      "\u001b[1;31mNameError\u001b[0m                                 Traceback (most recent call last)",
      "Cell \u001b[1;32mIn[1], line 1\u001b[0m\n\u001b[1;32m----> 1\u001b[0m \u001b[38;5;28;01mwith\u001b[39;00m \u001b[43mwave\u001b[49m\u001b[38;5;241m.\u001b[39mopen(file_path, \u001b[38;5;124m'\u001b[39m\u001b[38;5;124mr\u001b[39m\u001b[38;5;124m'\u001b[39m) \u001b[38;5;28;01mas\u001b[39;00m wav_file:                 \u001b[38;5;66;03m# membuka file wav\u001b[39;00m\n\u001b[0;32m      2\u001b[0m     \u001b[38;5;66;03m# membaca semua frame\u001b[39;00m\n\u001b[0;32m      3\u001b[0m     frames \u001b[38;5;241m=\u001b[39m wav_file\u001b[38;5;241m.\u001b[39mreadframes(\u001b[38;5;241m-\u001b[39m\u001b[38;5;241m1\u001b[39m)\n\u001b[0;32m      4\u001b[0m     \u001b[38;5;66;03m# mengubah frame ke array numpy\u001b[39;00m\n",
      "\u001b[1;31mNameError\u001b[0m: name 'wave' is not defined"
     ]
    }
   ],
   "source": [
    "import wave  # Importing the wave module\n",
    "\n",
    "file_path = 'path_to_your_wav_file.wav'\n",
    "\n",
    "with wave.open(file_path, 'r') as wav_file:  # Opening the wav file\n",
    "    # Reading all frames\n",
    "    frames = wav_file.readframes(-1)\n",
    "    # Convert frames to numpy array if needed, using struct or numpy libraries"
   ]
  },
  {
   "cell_type": "code",
   "execution_count": null,
   "metadata": {},
   "outputs": [],
   "source": [
    "print(f\"Isi dari sound_data: {sound_data}\")\n",
    "print(f\"Panjang dari sound_data: {len(sound_data)}\")\n",
    "print(f\"Isi data pada elemen ke 500000 - 500020: {sound_data[500000:500020]}\")\n",
    "print(f\"Sample rate: {frame_rate}\")"
   ]
  },
  {
   "cell_type": "markdown",
   "metadata": {},
   "source": []
  },
  {
   "cell_type": "code",
   "execution_count": null,
   "metadata": {},
   "outputs": [],
   "source": [
    "time_axis = np.linspace(0, len(sound_data) / frame_rate, num=len(sound_data))\n",
    "\n",
    "# menampilkan plot dengan matplotlib\n",
    "plt.figure(figsize=(18, 4))\n",
    "\n",
    "# Buat judul \"Visualisasi Audio\"\n",
    "plt.title('Visualisasi Audio', fontsize=16)\n",
    "plt.plot(time_axis, sound_data)\n",
    "plt.xlabel('Waktu (detik)')\n",
    "plt.ylabel('Amplitudo')\n",
    "# Menampilkan grid yang halus\n",
    "plt.grid(linestyle='-', linewidth=0.5)\n",
    "plt.show()"
   ]
  }
 ],
 "metadata": {
  "kernelspec": {
   "display_name": "Python 3",
   "language": "python",
   "name": "python3"
  },
  "language_info": {
   "codemirror_mode": {
    "name": "ipython",
    "version": 3
   },
   "file_extension": ".py",
   "mimetype": "text/x-python",
   "name": "python",
   "nbconvert_exporter": "python",
   "pygments_lexer": "ipython3",
   "version": "3.11.4"
  }
 },
 "nbformat": 4,
 "nbformat_minor": 2
}
