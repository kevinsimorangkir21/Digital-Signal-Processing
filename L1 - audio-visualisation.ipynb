{
 "cells": [
  {
   "cell_type": "markdown",
   "metadata": {},
   "source": [
    "# Working With Audio\n",
    "\n",
    "## ℹ️ Introduction\n",
    "In this hands-on, we will learn how to work with audio using Python. Make sure the active environment in this jupyter notebook is appropriate.\n",
    "\n",
    "## 💻 Learn Code\n",
    "IF 3024\n",
    "\n",
    "## 📅 Learn Date\n",
    "Wednesday, 11 September 2024\n",
    "\n",
    "## 📚 Library Tool Command\n",
    "`!pip install matplotlib numpy wave`\n",
    "\n"
   ]
  },
  {
   "cell_type": "markdown",
   "metadata": {},
   "source": [
    "Buatlah sebuah library yang dibutuhkan terlebih dahulu, contohnya matplotlib.pyplot, numpy, os, wave"
   ]
  },
  {
   "cell_type": "code",
   "execution_count": 1,
   "metadata": {},
   "outputs": [],
   "source": [
    "import matplotlib.pyplot as plt\n",
    "import numpy as np\n",
    "import os\n",
    "import wave"
   ]
  },
  {
   "cell_type": "markdown",
   "metadata": {},
   "source": [
    "## Memuat File Audio\n",
    "File audio dapat didowload melalui Youtube yang diconvert dari mp4 ke mp3 melalui extension. playlist file audio Youtube dapat diakses di https://www.youtube.com/playlist?list=PLTlghO_nzap2Jty3v5V6jFdQU_RA8wb5O"
   ]
  },
  {
   "cell_type": "code",
   "execution_count": 2,
   "metadata": {},
   "outputs": [],
   "source": [
    "file_path = os.path.join(os.getcwd(), 'data', 'audio1.wav') #filePath\n",
    "if not os.path.exists(file_path): #tandaTidakDitemukanFile\n",
    "    print('File tidak ditemukan')\n",
    "    exit()"
   ]
  },
  {
   "cell_type": "markdown",
   "metadata": {},
   "source": [
    "#### Menggunakan `wave` untuk membuka file audio yang di download.\n",
    "\n",
    "**Apa Itu Waveform?**\n",
    "\n",
    "**Waveform** adalah representasi visual dari gelombang suara atau sinyal audio dalam domain waktu. Dalam grafik waveform, sumbu horizontal (x) biasanya mewakili waktu, sedangkan sumbu vertikal (y) mewakili amplitudo sinyal audio pada waktu tertentu. Dengan kata lain, waveform menunjukkan bagaimana amplitudo suara berubah seiring berjalannya waktu.\n",
    "\n",
    "Waveform memberikan informasi penting tentang karakteristik audio, seperti:\n",
    "- **Amplitudo**: Ketinggian atau intensitas gelombang suara. Amplitudo tinggi biasanya terkait dengan suara yang lebih keras.\n",
    "- **Frekuensi**: Jumlah siklus gelombang per detik. Meskipun waveform sendiri tidak langsung menunjukkan frekuensi, pola-pola dalam waveform bisa memberikan indikasi tentang frekuensi sinyal.\n",
    "- **Durasi**: Panjang waktu sinyal audio.\n",
    "\n",
    "**Tentang Package `wave`**\n",
    "\n",
    "`import wave` adalah modul dalam Python yang digunakan untuk membaca dan menulis file audio dalam format WAV. Format WAV adalah format audio yang tidak terkompresi, yang berarti data audio disimpan dalam bentuk aslinya tanpa pengurangan kualitas."
   ]
  },
  {
   "cell_type": "code",
   "execution_count": 3,
   "metadata": {},
   "outputs": [
    {
     "name": "stdout",
     "output_type": "stream",
     "text": [
      "File tidak ditemukan\n"
     ]
    },
    {
     "ename": "FileNotFoundError",
     "evalue": "[Errno 2] No such file or directory: 'path_to_your_wav_file.wav'",
     "output_type": "error",
     "traceback": [
      "\u001b[1;31m---------------------------------------------------------------------------\u001b[0m",
      "\u001b[1;31mFileNotFoundError\u001b[0m                         Traceback (most recent call last)",
      "Cell \u001b[1;32mIn[3], line 14\u001b[0m\n\u001b[0;32m     11\u001b[0m     exit()\n\u001b[0;32m     13\u001b[0m \u001b[38;5;66;03m# Membuka file WAV dan membaca data\u001b[39;00m\n\u001b[1;32m---> 14\u001b[0m \u001b[38;5;28;01mwith\u001b[39;00m wave\u001b[38;5;241m.\u001b[39mopen(file_path, \u001b[38;5;124m'\u001b[39m\u001b[38;5;124mr\u001b[39m\u001b[38;5;124m'\u001b[39m) \u001b[38;5;28;01mas\u001b[39;00m wav_file:\n\u001b[0;32m     15\u001b[0m     frames \u001b[38;5;241m=\u001b[39m wav_file\u001b[38;5;241m.\u001b[39mreadframes(\u001b[38;5;241m-\u001b[39m\u001b[38;5;241m1\u001b[39m)\n\u001b[0;32m     16\u001b[0m     sound_data \u001b[38;5;241m=\u001b[39m np\u001b[38;5;241m.\u001b[39mfrombuffer(frames, dtype\u001b[38;5;241m=\u001b[39mnp\u001b[38;5;241m.\u001b[39mint16)\n",
      "File \u001b[1;32mc:\\ProgramData\\anaconda3\\Lib\\wave.py:649\u001b[0m, in \u001b[0;36mopen\u001b[1;34m(f, mode)\u001b[0m\n\u001b[0;32m    647\u001b[0m         mode \u001b[38;5;241m=\u001b[39m \u001b[38;5;124m'\u001b[39m\u001b[38;5;124mrb\u001b[39m\u001b[38;5;124m'\u001b[39m\n\u001b[0;32m    648\u001b[0m \u001b[38;5;28;01mif\u001b[39;00m mode \u001b[38;5;129;01min\u001b[39;00m (\u001b[38;5;124m'\u001b[39m\u001b[38;5;124mr\u001b[39m\u001b[38;5;124m'\u001b[39m, \u001b[38;5;124m'\u001b[39m\u001b[38;5;124mrb\u001b[39m\u001b[38;5;124m'\u001b[39m):\n\u001b[1;32m--> 649\u001b[0m     \u001b[38;5;28;01mreturn\u001b[39;00m Wave_read(f)\n\u001b[0;32m    650\u001b[0m \u001b[38;5;28;01melif\u001b[39;00m mode \u001b[38;5;129;01min\u001b[39;00m (\u001b[38;5;124m'\u001b[39m\u001b[38;5;124mw\u001b[39m\u001b[38;5;124m'\u001b[39m, \u001b[38;5;124m'\u001b[39m\u001b[38;5;124mwb\u001b[39m\u001b[38;5;124m'\u001b[39m):\n\u001b[0;32m    651\u001b[0m     \u001b[38;5;28;01mreturn\u001b[39;00m Wave_write(f)\n",
      "File \u001b[1;32mc:\\ProgramData\\anaconda3\\Lib\\wave.py:282\u001b[0m, in \u001b[0;36mWave_read.__init__\u001b[1;34m(self, f)\u001b[0m\n\u001b[0;32m    280\u001b[0m \u001b[38;5;28mself\u001b[39m\u001b[38;5;241m.\u001b[39m_i_opened_the_file \u001b[38;5;241m=\u001b[39m \u001b[38;5;28;01mNone\u001b[39;00m\n\u001b[0;32m    281\u001b[0m \u001b[38;5;28;01mif\u001b[39;00m \u001b[38;5;28misinstance\u001b[39m(f, \u001b[38;5;28mstr\u001b[39m):\n\u001b[1;32m--> 282\u001b[0m     f \u001b[38;5;241m=\u001b[39m builtins\u001b[38;5;241m.\u001b[39mopen(f, \u001b[38;5;124m'\u001b[39m\u001b[38;5;124mrb\u001b[39m\u001b[38;5;124m'\u001b[39m)\n\u001b[0;32m    283\u001b[0m     \u001b[38;5;28mself\u001b[39m\u001b[38;5;241m.\u001b[39m_i_opened_the_file \u001b[38;5;241m=\u001b[39m f\n\u001b[0;32m    284\u001b[0m \u001b[38;5;66;03m# else, assume it is an open file object already\u001b[39;00m\n",
      "\u001b[1;31mFileNotFoundError\u001b[0m: [Errno 2] No such file or directory: 'path_to_your_wav_file.wav'"
     ]
    },
    {
     "ename": "",
     "evalue": "",
     "output_type": "error",
     "traceback": [
      "\u001b[1;31mThe Kernel crashed while executing code in the current cell or a previous cell. \n",
      "\u001b[1;31mPlease review the code in the cell(s) to identify a possible cause of the failure. \n",
      "\u001b[1;31mClick <a href='https://aka.ms/vscodeJupyterKernelCrash'>here</a> for more info. \n",
      "\u001b[1;31mView Jupyter <a href='command:jupyter.viewOutput'>log</a> for further details."
     ]
    }
   ],
   "source": [
    "with wave.open(file_path, 'r') as wav_file:                 # membuka file wav\n",
    "    # membaca semua frame\n",
    "    frames = wav_file.readframes(-1)\n",
    "    # mengubah frame ke array numpy\n",
    "    sound_data = np.frombuffer(frames, dtype=np.int16)\n",
    "    frame_rate = wav_file.getframerate()                    # mendapatkan sample rate"
   ]
  },
  {
   "cell_type": "code",
   "execution_count": null,
   "metadata": {},
   "outputs": [],
   "source": [
    "print(f\"Isi dari sound_data: {sound_data}\")\n",
    "print(f\"Panjang dari sound_data: {len(sound_data)}\")\n",
    "print(f\"Isi data pada elemen ke 500000 - 500020: {sound_data[500000:500020]}\")\n",
    "print(f\"Sample rate: {frame_rate}\")"
   ]
  },
  {
   "cell_type": "markdown",
   "metadata": {},
   "source": []
  },
  {
   "cell_type": "code",
   "execution_count": 1,
   "metadata": {},
   "outputs": [
    {
     "ename": "NameError",
     "evalue": "name 'np' is not defined",
     "output_type": "error",
     "traceback": [
      "\u001b[1;31m---------------------------------------------------------------------------\u001b[0m",
      "\u001b[1;31mNameError\u001b[0m                                 Traceback (most recent call last)",
      "Cell \u001b[1;32mIn[1], line 2\u001b[0m\n\u001b[0;32m      1\u001b[0m \u001b[38;5;66;03m# Membuat sumbu waktu berdasarkan panjang data dan sample rate\u001b[39;00m\n\u001b[1;32m----> 2\u001b[0m time_axis \u001b[38;5;241m=\u001b[39m np\u001b[38;5;241m.\u001b[39mlinspace(\u001b[38;5;241m0\u001b[39m, \u001b[38;5;28mlen\u001b[39m(sound_data) \u001b[38;5;241m/\u001b[39m frame_rate, num\u001b[38;5;241m=\u001b[39m\u001b[38;5;28mlen\u001b[39m(sound_data))\n\u001b[0;32m      4\u001b[0m \u001b[38;5;66;03m# Menampilkan plot dengan matplotlib\u001b[39;00m\n\u001b[0;32m      5\u001b[0m plt\u001b[38;5;241m.\u001b[39mfigure(figsize\u001b[38;5;241m=\u001b[39m(\u001b[38;5;241m18\u001b[39m, \u001b[38;5;241m4\u001b[39m))\n",
      "\u001b[1;31mNameError\u001b[0m: name 'np' is not defined"
     ]
    }
   ],
   "source": [
    "time_axis = np.linspace(0, len(sound_data) / frame_rate, num=len(sound_data))\n",
    "\n",
    "# menampilkan plot dengan matplotlib\n",
    "plt.figure(figsize=(18, 4))\n",
    "\n",
    "# Buat judul \"Visualisasi Audio\"\n",
    "plt.title('Visualisasi Audio', fontsize=16)\n",
    "plt.plot(time_axis, sound_data)\n",
    "plt.xlabel('Waktu (detik)')\n",
    "plt.ylabel('Amplitudo')\n",
    "# Menampilkan grid yang halus\n",
    "plt.grid(linestyle='-', linewidth=0.5)\n",
    "plt.show()"
   ]
  }
 ],
 "metadata": {
  "kernelspec": {
   "display_name": "Python 3",
   "language": "python",
   "name": "python3"
  },
  "language_info": {
   "codemirror_mode": {
    "name": "ipython",
    "version": 3
   },
   "file_extension": ".py",
   "mimetype": "text/x-python",
   "name": "python",
   "nbconvert_exporter": "python",
   "pygments_lexer": "ipython3",
   "version": "3.12.4"
  }
 },
 "nbformat": 4,
 "nbformat_minor": 2
}
