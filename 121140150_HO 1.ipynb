{
 "cells": [
  {
   "cell_type": "markdown",
   "metadata": {},
   "source": [
    "# Hands On 1\n",
    "\n",
    "## Topics\n",
    "_Audio Processing_\n",
    "\n",
    "## Personal Identity\n",
    "|Nama Mahasiswa|Nomor Induk Mahasiswa|\n",
    "|---|---|\n",
    "|Kevin Simorangkir|121140150|\n",
    "\n",
    "## Instructions\n",
    "1. Buktikan bahwa terdapat perbedaan yang signifikan pada visualisasi audio menggunakan 5 buah sumber audio yang berbeda:\n",
    "- Pertama, bersuara pelan. Kedua, relatif bersuara dengan volume sedang. Ketiga, relatif bersuara dengan volume tinggi. Keempat, bersuara volume sedang, namun mengucapkan kata-kata dengan huruf s yang panjang (essssss). Kelima, bersuara volume sedang, mengucapkan kata brrbrbrbrb / lip trill.\n",
    "- Masing-masing silahkan membuat file wav/mp3/flac yang sesuai dengan ketentuan tersebut (5 file).\n",
    "- Gunakan waveforms dan spectogram untuk memvisualisasikan ketiga sumber audio tersebut.\n",
    "- Berikan analisa anda terhadap perbedaan visualisasi audio tersebut.\n",
    "2. Tanyalah kepada AI-LLM bagaimana membuat teknik fading yang non linear. Implementasikan hal tersebut. Jangan lupa copy/paste hasil percakapan anda dengan AI LLM ke notebook anda.\n",
    "- Untuk mahasiswa ber-nim akhir ganjil, implementasikan teknik fading Logarithmic Scale Fading\n",
    "- Untuk mahasiswa ber-nim akhir genap, implementasikan teknik fading Exponential\n",
    "- Lakukan fading untuk bagian awal dan akhir dari audio\n",
    "3. Dengan menggunakan file audio yang anda rekam sendiri (suara anda), lakukanlah kompresi dan normalisasi hingga loudness LUFS mencapai kira-kira sekitar -14 LUFS. Berikan penjelasan langkah-langkah yang anda lakukan untuk menyelesaikan tugas ini.\n",
    "4. Rekamlah sebuah audio dengan menggunakan handphone / laptop anda. Cara anda merekam haruslah sedikit unik:\n",
    "- Anda harus berbicara selama 20 detik.\n",
    "- Bacaan / percakapan yang anda rekam haruslah berisi informasi mengenai diri anda, seperti nama, asal daerah, hobi, dll.\n",
    "- Lakukanlah perekaman di dekat sumber noise statis seperti kipas angin, AC, atau kipas laptop anda (atau apapun yang merupakan noise frekuensi tinggi)\n",
    "- Lakukanlah equalisasi pada audio tersebut dengan menggunakan bandpass. Temukan frekuensi cutoff untuk bandpass yang paling sesuai dengan karakteristik audio yang anda rekam.\n",
    "- Visualisasikan spektrum frekuensi dari audio sebelum di filter dan setelah di filter (dengan ketiga filter yang telah anda buat).\n",
    "- Tanyakan pada AI/LLM bagaimana cara membuat noise gate pada audio. Lalu implementasikan noise gate ini pada audio yang telah anda rekam. Jangan lupa copy/paste hasil percakapan anda dengan AI LLM ke notebook anda. Gunakan file audio dari soal nomor 4.\n",
    "---"
   ]
  },
  {
   "cell_type": "markdown",
   "metadata": {},
   "source": [
    "## Tahap Persiapan\n",
    "1. Siapkan Library / Pustaka yang akan digunakan dalam penugasan ini. Dalam hal ini menggunakan 4 (empat) pustaka yaitu sebagai berikut `matplotlib` , `numpy` , `os`, dan `wave`"
   ]
  },
  {
   "cell_type": "code",
   "execution_count": null,
   "metadata": {},
   "outputs": [],
   "source": [
    "import numpy as np #pustaka numpy\n",
    "import matplotlib.pyplot as plt #pustaka matplotlib\n",
    "import os #pustaka os\n",
    "import wave #pustaka wave"
   ]
  },
  {
   "cell_type": "markdown",
   "metadata": {},
   "source": [
    "2. Mempersiapkan audio yang diminta sesuai `##Instructions` . Dalam hal ini telah dipersiapkan untuk file _audio_ nya di _path_ `Technology-Multimedia/Audio`. Dikategorikan menjadi 5 yaitu Low, Medium, Hard, Brrbbrbrb, dan Esss."
   ]
  },
  {
   "cell_type": "markdown",
   "metadata": {},
   "source": [
    "## Tahap Eksekusi\n",
    "1. Mengambil data dari File Audio yang telah disediakan melalui folder `Audio`. Dengan kode program sebagai berikut :"
   ]
  },
  {
   "cell_type": "code",
   "execution_count": null,
   "metadata": {},
   "outputs": [],
   "source": [
    "#mengambil data audio\n",
    "audio_data = os.path.join(os.getcwd(), \"data\", \"Low\") #mengambil data audio\n",
    "if not os.path.exists(audio_data): #jika data tidak ada\n",
    "    print(\"Data dari {audio_data} tidak ditemukan\") #maka akan menampilkan pesan \"Data tidak ditemukan\"\n",
    "    exit() #keluar"
   ]
  },
  {
   "cell_type": "code",
   "execution_count": null,
   "metadata": {},
   "outputs": [],
   "source": [
    "with wave.open(audio_data, \"r\") as audio_wave: #membuka data audio\n",
    "    audio_frames = audio_wave.readframes(-1) #membaca frame audio\n",
    "    file_data = np.frombuffer(audio_frames, dtype=\"int16\") #mengubah frame audio ke array numpy\n",
    "    sample_rate = audio_wave.getframerate() #mengambil sample rate\n",
    "    channels = audio_wave.getnchannels() #mengambil jumlah channel"
   ]
  },
  {
   "cell_type": "code",
   "execution_count": null,
   "metadata": {},
   "outputs": [],
   "source": [
    "print(f\"Sample rate: {sample_rate} Hz\") #menampilkan sample rate\n",
    "print(f\"Channels: {channels}\") #menampilkan jumlah channel\n",
    "print(f\"Total frames: {len(file_data)}\") #menampilkan total frame\n",
    "print(f\"Duration: {len(file_data) / sample_rate} seconds\") #menampilkan durasi"
   ]
  },
  {
   "cell_type": "markdown",
   "metadata": {},
   "source": [
    "2. Memisahkan data file `audio` menjadi 2 sama dengan kanan dan juga kiri."
   ]
  },
  {
   "cell_type": "code",
   "execution_count": null,
   "metadata": {},
   "outputs": [],
   "source": [
    "file_data = file_data.reshape(-1, channels) #mengubah bentuk array\n",
    "audio_kiri = file_data[:, 0] #mengambil data channel kiri\n",
    "audio_kanan = file_data[:, 1] #mengambil data channel kanan\n",
    "\n",
    "print(f\"Audio kiri: {audio_kiri.shape}\") #menampilkan data channel kiri\n",
    "print(f\"Audio kanan: {audio_kanan.shape}\") #menampilkan data channel kanan\n",
    "print(f\"Shape: {file_data.shape}\") #menampilkan bentuk array"
   ]
  },
  {
   "cell_type": "markdown",
   "metadata": {},
   "source": [
    "3. Membuat visualisasi dari audio yang ada"
   ]
  },
  {
   "cell_type": "code",
   "execution_count": null,
   "metadata": {},
   "outputs": [],
   "source": [
    "sample_audio = len(audio_kiri) #mengambil panjang data audio\n",
    "detik_audio = np.arange(sample_audio) / sample_rate #mengambil detik audio\n",
    "\n",
    "print(f\"Sample audio: {sample_audio}\") #menampilkan sample audio\n",
    "print(f\"Detik audio: {detik_audio}\") #menampilkan detik audio\n",
    "\n",
    "sumbu_waktu = np.linspace(0, detik_audio, sample_audio) #mengambil sumbu waktu"
   ]
  },
  {
   "cell_type": "code",
   "execution_count": null,
   "metadata": {},
   "outputs": [],
   "source": [
    "ax, fig= plt.subplots(2, 1, figsize=(18, 5)) #membuat plot\n",
    "fig[0].plot(sumbu_waktu, audio_kiri, color=\"blue\" label=\"left\") #plot channel kiri\n",
    "fig[0].set_title(\"Channel Kiri\") #judul plot\n",
    "fig[0].set_xlabel(\"Detik\") #label x\n",
    "fig[0].set_ylabel(\"Amplitudo\") #label y\n",
    "fig[1].plot(sumbu_waktu, audio_kanan, color=\"red\", label=\"right\") #plot channel kanan\n",
    "fig[1].set_title(\"Channel Kanan\") #judul plot\n",
    "fig[1].set_xlabel(\"Detik\") #label x\n",
    "fig[1].set_ylabel(\"Amplitudo\") #label y\n",
    "plt.tight_layout() #plot rapi\n",
    "plt.show() #menampilkan plot\n"
   ]
  }
 ],
 "metadata": {
  "kernelspec": {
   "display_name": "Python 3",
   "language": "python",
   "name": "python3"
  },
  "language_info": {
   "codemirror_mode": {
    "name": "ipython",
    "version": 3
   },
   "file_extension": ".py",
   "mimetype": "text/x-python",
   "name": "python",
   "nbconvert_exporter": "python",
   "pygments_lexer": "ipython3",
   "version": "3.12.4"
  }
 },
 "nbformat": 4,
 "nbformat_minor": 2
}
