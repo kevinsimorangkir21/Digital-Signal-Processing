{
 "cells": [
  {
   "cell_type": "markdown",
   "metadata": {},
   "source": [
    "## **Hands On (HO) - 03**\n",
    "\n",
    "### **Subject - Class**\n",
    "_Multimedia Technology - R_\n",
    "\n",
    "### **Topic Hands On - 03**\n",
    "_Video Processing_\n",
    "\n",
    "### **Personal Identity**\n",
    "| **Student Name**  | Kevin Simorangkir      |\n",
    "|-------------------|----------------------- |\n",
    "| **ID Student**  | 121140150                |\n",
    "| **Major**     | Informatics Enginnering    |\n",
    "\n",
    "### **Language Version**\n",
    "_English_\n",
    "___\n"
   ]
  },
  {
   "cell_type": "markdown",
   "metadata": {},
   "source": [
    "Mempersiapkan `library` yang akan digunakan dalam `Hands On (HO) - 03` ini. `Library` yang akan digunakan adalah `OS`, `glob`, `cv2`, `numpy`, `matplotlib`, `dlib`, dan `datetime`."
   ]
  },
  {
   "cell_type": "code",
   "execution_count": 31,
   "metadata": {},
   "outputs": [],
   "source": [
    "import os #library OS untuk mengakses fungsi-fungsi yang terdapat dalam sistem operasi\n",
    "from glob import glob #library glob untuk mencari semua pathnames yang cocok dengan pola tertentu\n",
    "import cv2 #library OpenCV untuk mengolah gambar dan video\n",
    "import numpy as np #library numpy untuk melakukan operasi vektor dan matriks\n",
    "import matplotlib.pyplot as plt #library matplotlib untuk membuat plot grafik\n",
    "import dlib #library dlib untuk mendeteksi wajah\n",
    "import datetime as dt #library datetime untuk mengolah data tanggal dan waktu"
   ]
  },
  {
   "cell_type": "markdown",
   "metadata": {},
   "source": [
    "Mengikuti tahap _Pre-requisite_, yaitu:\n",
    "1. Rekamlah sebuah video yang berdurasi kira-kira 60 detik dengan kamera ponsel. Toleransi durasi adalah 63 detik.\n",
    "2. Resolusi video haruslah tepat 1920x1080 dengan FPS 30.\n",
    "3. Gunakan tripod / phone holder agar video tetap stabil\n",
    "4. Pastikan merekam dalam kondisi pencahayaan yang cukup (cahaya alami matahari lebih disarankan)\n",
    "5. Anda harus duduk dengan tegak dan bersandar di kursi dan berada di tengah frame. Letakkan kedua tangan di atas lutut anda.\n",
    "6. Selama perekaman, mintalah teman / keluarga anda untuk menghitung berapa kali anda bernafas selama 60 detik. Bukan hanya sekedar menghitung, teman / keluarga anda harus mencatat pada detik keberapa anda mulai menghembuskan nafas. Oleh karena itu, pastikan teman / keluarga anda menggunakan stopwatch pada HP mereka. (Tekan `LAP` setiap kali anda mulai menghembuskan nafas).\n",
    "7. Pindahkan catatan tersebut ke dalam `csv` dengan format sebagai berikut:\n",
    "\n",
    "| Nafas-ke | Second | Milisecond |\n",
    "|----------|--------|-----------|\n",
    "| 1        | 0      | 0         |\n",
    "| 2        | 10     | 0         |\n",
    "\n",
    "8. Di detik ke 30, gerakkan kepala anda (menghadap ke kanan dan kiri) hanya satu kali saja"
   ]
  },
  {
   "cell_type": "markdown",
   "metadata": {},
   "source": [
    "### **Membuat Video Dari Gambar**\n",
    "Mencari dan mengidentifikasi letak dari gambar yang akan dijadikan sebuah video. File akan diambil dari direktori tersebut."
   ]
  },
  {
   "cell_type": "code",
   "execution_count": 32,
   "metadata": {},
   "outputs": [
    {
     "name": "stdout",
     "output_type": "stream",
     "text": [
      "Lima path pertama dari ImageList: []\n"
     ]
    }
   ],
   "source": [
    "ImagePath = (os.path.join(os.getcwd(), 'Image', 'kevin-rgb')) #mengambil path dari folder Video/kevin-rgb\n",
    "ImageList = glob(os.path.join(ImagePath, '*.jpg')) #mengambil semua pathnames yang cocok dengan pola *.jpg\n",
    "\n",
    "print('Lima path pertama dari ImageList:', ImageList[:5]) #menampilkan lima path pertama dari ImageList"
   ]
  },
  {
   "cell_type": "markdown",
   "metadata": {},
   "source": [
    "Melakukan penyortingan terhadap file yang ada di dalam direktori tersebut."
   ]
  },
  {
   "cell_type": "code",
   "execution_count": 33,
   "metadata": {},
   "outputs": [
    {
     "name": "stdout",
     "output_type": "stream",
     "text": [
      "Lima path pertama dari ImageList setelah diurutkan: []\n",
      "Jumlah gambar: 0\n"
     ]
    }
   ],
   "source": [
    "ImageList = sorted(ImageList, key=lambda x: int(x.split('/')[-1].split('.')[0])) #mengurutkan ImageList berdasarkan nama file   \n",
    "\n",
    "print('Lima path pertama dari ImageList setelah diurutkan:', ImageList[:5]) #menampilkan lima path pertama dari ImageList setelah diurutkan\n",
    "print('Jumlah gambar:', len(ImageList)) #menampilkan jumlah gambar\n"
   ]
  },
  {
   "cell_type": "markdown",
   "metadata": {},
   "source": [
    "---\n",
    "## **Analisis Pertama**\n",
    "\n",
    "**Pertanyaan**\n",
    "\n",
    "\n",
    "Jelaskan maksud dari `list_imgs = sorted(list_imgs, key=lambda x: int(x.split('/')[-1].split('.')[0]))` !\n",
    "\n",
    "**Jawaban**\n",
    "\n",
    "\n",
    "Maksud dari `list_imgs = sorted(list_imgs, key=lambda x: int(x.split('/')[-1].split('.')[0]))` adalah untuk melakukan penyortingan terhadap file yang ada di dalam direktori tersebut. Penyortingan dilakukan berdasarkan nama file yang ada di dalam direktori tersebut. Penyortingan dilakukan secara ascending, dimana file yang memiliki nama lebih kecil akan diletakkan di urutan pertama, sedangkan file yang memiliki nama lebih besar akan diletakkan di urutan terakhir.\n",
    "\n",
    "---"
   ]
  },
  {
   "cell_type": "markdown",
   "metadata": {},
   "source": [
    "Memuat gambar yang ada di dalam direktori tersebut. Gambar akan dimuat dalam ImageList. Image akan diubah dalam 3 dimensi (RGB) dan akan diubah dalam bentuk array."
   ]
  },
  {
   "cell_type": "code",
   "execution_count": 34,
   "metadata": {},
   "outputs": [
    {
     "name": "stdout",
     "output_type": "stream",
     "text": [
      "Ukuran array: (0,)\n",
      "Tipe data: float64\n"
     ]
    }
   ],
   "source": [
    "image = [] #membuat list image\n",
    "\n",
    "for ImagePath in ImageList: #mengambil path dari ImageList\n",
    "    images = cv2.imread(ImagePath) #membaca gambar\n",
    "    image.append(images) #menambahkan gambar ke list image \n",
    "\n",
    "image_array = np.array(image) #mengubah list image menjadi array    \n",
    "\n",
    "print('Ukuran array:', image_array.shape) #menampilkan ukuran array\n",
    "print('Tipe data:', image_array.dtype) #menampilkan tipe data"
   ]
  },
  {
   "cell_type": "markdown",
   "metadata": {},
   "source": [
    "Menyimpan gambar yang telah diubah dalam bentuk array ke dalam list."
   ]
  },
  {
   "cell_type": "code",
   "execution_count": 37,
   "metadata": {},
   "outputs": [
    {
     "name": "stdout",
     "output_type": "stream",
     "text": [
      "Image dalam directory tidak ditemukan\n"
     ]
    }
   ],
   "source": [
    "LocationSave = os.path.join(os.getcwd(), 'Video', 'kevin-rgb.mp4') #mengambil path dari folder Video/kevin-rgb\n",
    "fourcc = cv2.VideoWriter_fourcc(*'XVID') #membuat objek video\n",
    "\n",
    "if image_array.size > 0:\n",
    "    height, width, layers = image_array[0].shape #mengambil ukuran gambar\n",
    "    Video = cv2.VideoWriter(LocationSave, fourcc, 30, (width, height)) #membuat objek video\n",
    "\n",
    "    for Image in image_array: #mengambil gambar dari image_array\n",
    "        Video.write(Image) #menulis gambar ke objek video\n",
    "    Video.release() #menutup objek video\n",
    "else:\n",
    "    print(\"Image dalam directory tidak ditemukan\") #menampilkan pesan jika image dalam directory tidak ditemukan    \n"
   ]
  },
  {
   "cell_type": "markdown",
   "metadata": {},
   "source": [
    "---\n",
    "## **Analisis Kedua**\n",
    "\n",
    "**Pertanyaan**\n",
    "\n",
    "\n",
    "Jelaskan tentang bagian kode berikut:\n",
    "    ```python\n",
    "    fourcc = cv2.VideoWriter_fourcc(*'mp4v')\n",
    "    ```\n",
    "\n",
    "    Apakah ada opsi lain selain `mp4v`? Jika ada, coba gunakan dan jelaskan.\n",
    "\n",
    "**Jawaban**\n",
    "\n",
    "\n",
    "Bagian kode pada `fourcc = cv2.VideoWriter_fourcc(*'mp4v')` adalah untuk menentukan codec yang akan digunakan dalam pembuatan video. Codec yang digunakan adalah `mp4v`. Ada beberapa opsi lain selain `mp4v`, yaitu: `XVID`, `MJPG`, `DIVX`, `X264`, `WMV1`, `WMV2`, `WMV3`, `WMV4`, `H264`, `H265`, `MPEG`, `MPEG1`, `MPEG2`, `MPEG4`, `VP80`.\n",
    "\n",
    "---"
   ]
  },
  {
   "cell_type": "markdown",
   "metadata": {},
   "source": [
    "Menyimpan setiap bingkai video menjadi sebuah gambar. Gambar akan disimpan dalam direktori yang telah ditentukan."
   ]
  },
  {
   "cell_type": "code",
   "execution_count": 38,
   "metadata": {},
   "outputs": [
    {
     "name": "stdout",
     "output_type": "stream",
     "text": [
      "Seratus frame pertama telah disimpan di Image/kevin-seq\n"
     ]
    }
   ],
   "source": [
    "VideoPath = (os.path.join(os.getcwd(), 'Video', 'kevin-rgb.mp4')) #mengambil path dari folder Video/kevin-rgb\n",
    "ImageSeqPath = (os.path.join(os.getcwd(), 'Image', 'kevin-seq')) #mengambil path dari folder Image/kevin-seq\n",
    "\n",
    "if not os.path.exists(ImageSeqPath): #jika folder Image/kevin-seq tidak ada\n",
    "    os.makedirs(ImageSeqPath) #membuat folder Image/kevin-seq\n",
    "\n",
    "Capt = cv2.VideoCapture(VideoPath) #membaca video\n",
    "Frame = 0 #inisialisasi frame\n",
    "\n",
    "while Frame < 100: #membaca 100 frame\n",
    "    ret, FrameImg = Capt.read() #membaca frame\n",
    "    if not ret: #jika frame tidak ada\n",
    "        break #keluar dari loop\n",
    "    cv2.imwrite(os.path.join(ImageSeqPath, 'frame'+str(Frame)+'.jpg'), FrameImg) #menyimpan frame\n",
    "    Frame += 1 #menambah frame\n",
    "\n",
    "Capt.release() #menutup video\n",
    "print('Seratus frame pertama telah disimpan di Image/kevin-seq') #menampilkan pesan\n"
   ]
  },
  {
   "cell_type": "markdown",
   "metadata": {},
   "source": [
    "---\n",
    "## **Analisis Ketiga**\n",
    "\n",
    "**Pertanyaan**\n",
    "\n",
    "\n",
    "Membuat video dengan FPS yang lebih rendah.\n",
    "\n",
    "1. Dengan menggunakan video, simpanlah frame gambar setiap 3 frame. Begini ilustrasinya, jika ada frame 1 s/d 30, maka anda hanya perlu menyimpan frame 1, 4, 7, 10, 13, 16, 19, 22, 25, 28.\n",
    "2. Dengan analogi ini, artinya anda mengurangi FPS-nya. Berapakah FPS yang baru?\n",
    "3. Untuk setiap gambar, convertlah ke dalam format grayscale dan resize menjadi 1280 x 720.\n",
    "4. Untuk setiap gambar, berikanlah titik merah (ukuran bebas, namun terlihat ketika video diputar). Titik tersebut bergerak dari kiri ke kanan untuk setiap frame. Titik tersebut harus sampai di ujung kanan gambar pada frame terakhir. Anda harus melakukan ini secara manual dengan memanipulasi matriks (tidak boleh pakai fungsi / library yang sudah ada)\n",
    "5. Ingat, karena ini titik merah, maka channel warna pada video anda haruslah RGB (walaupun gambarnya telah menjadi grayscale).\n",
    "6. Save video tersebut dengan nama `video_low_fps.mp4`\n",
    "\n",
    "**Jawaban**"
   ]
  },
  {
   "cell_type": "code",
   "execution_count": 43,
   "metadata": {},
   "outputs": [
    {
     "name": "stdout",
     "output_type": "stream",
     "text": [
      "Video dengan frame rate rendah telah disimpan di Video/Kevin-LowFPS.mp4\n"
     ]
    }
   ],
   "source": [
    "# Path to save the new video\n",
    "LowFPSVideoPath = os.path.join(os.getcwd(), 'Video', 'Kevin-LowFPS.mp4')\n",
    "\n",
    "# Initialize video writer\n",
    "fourcc = cv2.VideoWriter_fourcc(*'mp4v')\n",
    "out = cv2.VideoWriter(LowFPSVideoPath, fourcc, 10, (1280, 720))\n",
    "\n",
    "# Reinitialize the video capture\n",
    "Capt = cv2.VideoCapture(VideoPath)\n",
    "\n",
    "frame_count = 0\n",
    "while True:\n",
    "    ret, frame = Capt.read()\n",
    "    if not ret:\n",
    "        break\n",
    "    if frame_count % 3 == 0:\n",
    "        # Convert to grayscale\n",
    "        gray_frame = cv2.cvtColor(frame, cv2.COLOR_BGR2GRAY)\n",
    "        # Resize to 1280x720\n",
    "        resized_frame = cv2.resize(gray_frame, (1280, 720))\n",
    "        # Convert back to RGB\n",
    "        rgb_frame = cv2.cvtColor(resized_frame, cv2.COLOR_GRAY2RGB)\n",
    "        # Add red dot\n",
    "        dot_position = int((frame_count // 3) * (1280 / (frame_count // 3 + 1)))\n",
    "        rgb_frame[360:365, dot_position:dot_position+5] = [255, 0, 0]\n",
    "        # Write the frame to the video\n",
    "        out.write(rgb_frame)\n",
    "    frame_count += 1\n",
    "\n",
    "# Release everything\n",
    "Capt.release()\n",
    "out.release()\n",
    "\n",
    "print('Video dengan frame rate rendah telah disimpan di Video/Kevin-LowFPS.mp4') #menampilkan pesan"
   ]
  },
  {
   "cell_type": "markdown",
   "metadata": {},
   "source": [
    "---"
   ]
  },
  {
   "cell_type": "markdown",
   "metadata": {},
   "source": [
    "Memindahkan data sebuah video ke dalam sebuah array. Array tersebut akan diubah menjadi sebuah video. Dalam hal ini menggunakan `cv2.VideoCapture` untuk membaca video yang telah dibuat sebelumnya."
   ]
  },
  {
   "cell_type": "code",
   "execution_count": 44,
   "metadata": {},
   "outputs": [
    {
     "name": "stdout",
     "output_type": "stream",
     "text": [
      "Ukuran array: (1902, 720, 1280, 3)\n",
      "Tipe data: uint8\n",
      "Lima frame pertama: [[[[200 204 220]\n",
      "   [200 204 220]\n",
      "   [200 204 220]\n",
      "   ...\n",
      "   [168 175 188]\n",
      "   [168 175 188]\n",
      "   [168 175 188]]\n",
      "\n",
      "  [[200 204 220]\n",
      "   [200 204 220]\n",
      "   [200 204 220]\n",
      "   ...\n",
      "   [168 175 188]\n",
      "   [168 175 188]\n",
      "   [168 175 188]]\n",
      "\n",
      "  [[200 204 220]\n",
      "   [200 204 220]\n",
      "   [200 204 220]\n",
      "   ...\n",
      "   [168 175 188]\n",
      "   [168 175 188]\n",
      "   [168 175 188]]\n",
      "\n",
      "  ...\n",
      "\n",
      "  [[196 192 195]\n",
      "   [202 198 201]\n",
      "   [199 195 198]\n",
      "   ...\n",
      "   [ 18  14  17]\n",
      "   [ 13   9  12]\n",
      "   [ 12   8  11]]\n",
      "\n",
      "  [[199 195 198]\n",
      "   [198 194 197]\n",
      "   [201 197 200]\n",
      "   ...\n",
      "   [ 10   6   9]\n",
      "   [  8   4   7]\n",
      "   [  8   4   7]]\n",
      "\n",
      "  [[202 198 201]\n",
      "   [199 195 198]\n",
      "   [198 194 197]\n",
      "   ...\n",
      "   [  6   2   5]\n",
      "   [  6   2   5]\n",
      "   [  5   1   4]]]\n",
      "\n",
      "\n",
      " [[[200 204 220]\n",
      "   [200 204 220]\n",
      "   [200 204 220]\n",
      "   ...\n",
      "   [168 175 188]\n",
      "   [168 175 188]\n",
      "   [168 175 188]]\n",
      "\n",
      "  [[200 204 220]\n",
      "   [200 204 220]\n",
      "   [200 204 220]\n",
      "   ...\n",
      "   [168 175 188]\n",
      "   [168 175 188]\n",
      "   [168 175 188]]\n",
      "\n",
      "  [[200 204 220]\n",
      "   [200 204 220]\n",
      "   [200 204 220]\n",
      "   ...\n",
      "   [168 175 188]\n",
      "   [168 175 188]\n",
      "   [168 175 188]]\n",
      "\n",
      "  ...\n",
      "\n",
      "  [[201 197 200]\n",
      "   [201 197 200]\n",
      "   [199 195 198]\n",
      "   ...\n",
      "   [ 18  14  17]\n",
      "   [ 12   8  11]\n",
      "   [ 12   8  11]]\n",
      "\n",
      "  [[198 194 197]\n",
      "   [199 195 198]\n",
      "   [199 195 198]\n",
      "   ...\n",
      "   [ 10   6   9]\n",
      "   [ 10   6   9]\n",
      "   [  8   4   7]]\n",
      "\n",
      "  [[199 195 198]\n",
      "   [198 194 197]\n",
      "   [197 193 196]\n",
      "   ...\n",
      "   [  6   2   5]\n",
      "   [  8   4   7]\n",
      "   [ 10   6   9]]]\n",
      "\n",
      "\n",
      " [[[200 204 220]\n",
      "   [200 204 220]\n",
      "   [199 203 219]\n",
      "   ...\n",
      "   [169 176 189]\n",
      "   [165 172 185]\n",
      "   [167 174 187]]\n",
      "\n",
      "  [[200 204 220]\n",
      "   [200 204 220]\n",
      "   [199 203 219]\n",
      "   ...\n",
      "   [172 179 192]\n",
      "   [165 172 185]\n",
      "   [168 175 188]]\n",
      "\n",
      "  [[199 203 219]\n",
      "   [199 203 219]\n",
      "   [199 203 219]\n",
      "   ...\n",
      "   [167 174 187]\n",
      "   [167 174 187]\n",
      "   [167 174 187]]\n",
      "\n",
      "  ...\n",
      "\n",
      "  [[201 197 200]\n",
      "   [201 197 200]\n",
      "   [201 197 200]\n",
      "   ...\n",
      "   [ 18  14  17]\n",
      "   [ 12   8  11]\n",
      "   [ 12   8  11]]\n",
      "\n",
      "  [[198 194 197]\n",
      "   [198 194 197]\n",
      "   [198 194 197]\n",
      "   ...\n",
      "   [ 10   6   9]\n",
      "   [ 10   6   9]\n",
      "   [  8   4   7]]\n",
      "\n",
      "  [[199 195 198]\n",
      "   [199 195 198]\n",
      "   [199 195 198]\n",
      "   ...\n",
      "   [  6   2   5]\n",
      "   [  8   4   7]\n",
      "   [ 10   6   9]]]\n",
      "\n",
      "\n",
      " [[[196 205 220]\n",
      "   [196 205 220]\n",
      "   [195 204 219]\n",
      "   ...\n",
      "   [169 176 189]\n",
      "   [165 172 185]\n",
      "   [168 175 188]]\n",
      "\n",
      "  [[196 205 220]\n",
      "   [196 205 220]\n",
      "   [195 204 219]\n",
      "   ...\n",
      "   [168 175 188]\n",
      "   [167 174 187]\n",
      "   [168 175 188]]\n",
      "\n",
      "  [[195 204 219]\n",
      "   [195 204 219]\n",
      "   [195 204 219]\n",
      "   ...\n",
      "   [168 175 188]\n",
      "   [167 174 187]\n",
      "   [164 171 184]]\n",
      "\n",
      "  ...\n",
      "\n",
      "  [[199 195 198]\n",
      "   [199 195 198]\n",
      "   [199 195 198]\n",
      "   ...\n",
      "   [ 17  13  16]\n",
      "   [ 12   8  11]\n",
      "   [ 11   7  10]]\n",
      "\n",
      "  [[204 200 203]\n",
      "   [203 199 202]\n",
      "   [201 197 200]\n",
      "   ...\n",
      "   [ 10   6   9]\n",
      "   [ 10   6   9]\n",
      "   [  5   1   4]]\n",
      "\n",
      "  [[199 195 198]\n",
      "   [199 195 198]\n",
      "   [198 194 197]\n",
      "   ...\n",
      "   [  7   3   6]\n",
      "   [  7   3   6]\n",
      "   [  4   0   3]]]\n",
      "\n",
      "\n",
      " [[[196 205 220]\n",
      "   [196 205 220]\n",
      "   [195 204 219]\n",
      "   ...\n",
      "   [167 174 187]\n",
      "   [169 176 189]\n",
      "   [167 174 187]]\n",
      "\n",
      "  [[196 205 220]\n",
      "   [196 205 220]\n",
      "   [195 204 219]\n",
      "   ...\n",
      "   [169 176 189]\n",
      "   [165 172 185]\n",
      "   [168 175 188]]\n",
      "\n",
      "  [[195 204 219]\n",
      "   [195 204 219]\n",
      "   [195 204 219]\n",
      "   ...\n",
      "   [169 176 189]\n",
      "   [167 174 187]\n",
      "   [167 174 187]]\n",
      "\n",
      "  ...\n",
      "\n",
      "  [[202 197 203]\n",
      "   [198 193 199]\n",
      "   [204 199 205]\n",
      "   ...\n",
      "   [ 18  14  17]\n",
      "   [ 13   9  12]\n",
      "   [ 11   7  10]]\n",
      "\n",
      "  [[201 196 202]\n",
      "   [199 194 200]\n",
      "   [199 194 200]\n",
      "   ...\n",
      "   [ 10   6   9]\n",
      "   [ 10   6   9]\n",
      "   [  6   2   5]]\n",
      "\n",
      "  [[203 198 204]\n",
      "   [196 191 197]\n",
      "   [202 197 203]\n",
      "   ...\n",
      "   [  8   4   7]\n",
      "   [  8   4   7]\n",
      "   [  7   3   6]]]]\n"
     ]
    }
   ],
   "source": [
    "VideoPath = (os.path.join(os.getcwd(), 'Video', 'kevin-rgb.mp4')) #mengambil path dari folder Video/kevin-rgb\n",
    "Capt = cv2.VideoCapture(VideoPath) #membaca video\n",
    "Frame = [] #membuat list Frame\n",
    "\n",
    "while True: #loop\n",
    "    ret, FrameImg = Capt.read() #membaca frame\n",
    "    if not ret: #jika frame tidak ada\n",
    "        break #keluar dari loop\n",
    "    Frame.append(FrameImg) #menambah frame ke list Frame\n",
    "\n",
    "FrameArray = np.array(Frame) #mengubah list Frame menjadi array\n",
    "Capt.release() #menutup video\n",
    "\n",
    "print('Ukuran array:', FrameArray.shape) #menampilkan ukuran array\n",
    "print('Tipe data:', FrameArray.dtype) #menampilkan tipe data\n",
    "print('Lima frame pertama:', FrameArray[:5]) #menampilkan lima frame pertama"
   ]
  },
  {
   "cell_type": "markdown",
   "metadata": {},
   "source": [
    "Mengambil satu gambar dari video yang telah dibuat sebelumnya. Gambar akan diubah dalam bentuk grayscale dan akan diubah dalam bentuk array."
   ]
  },
  {
   "cell_type": "code",
   "execution_count": null,
   "metadata": {},
   "outputs": [],
   "source": [
    "SingleImage = FrameArray[0].copy() #mengambil frame pertama \n",
    "SingleImage = cv2.cvtColor(SingleImage, cv2.COLOR_BGR2RGB) #mengubah warna gambar\n",
    "\n",
    "plt.figure(figsize=(10, 10)) #membuat figure\n",
    "plt.imshow(SingleImage) #menampilkan gambar\n",
    "plt.axis('off') #menghilangkan axis\n",
    "plt.show() #menampilkan gambar"
   ]
  }
 ],
 "metadata": {
  "kernelspec": {
   "display_name": "Python 3",
   "language": "python",
   "name": "python3"
  },
  "language_info": {
   "codemirror_mode": {
    "name": "ipython",
    "version": 3
   },
   "file_extension": ".py",
   "mimetype": "text/x-python",
   "name": "python",
   "nbconvert_exporter": "python",
   "pygments_lexer": "ipython3",
   "version": "3.12.4"
  }
 },
 "nbformat": 4,
 "nbformat_minor": 2
}
