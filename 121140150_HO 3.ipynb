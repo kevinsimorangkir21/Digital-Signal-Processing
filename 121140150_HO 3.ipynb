{
 "cells": [
  {
   "cell_type": "markdown",
   "metadata": {},
   "source": [
    "## **Hands On (HO) - 03**\n",
    "\n",
    "### **Subject - Class**\n",
    "_Multimedia Technology - R_\n",
    "\n",
    "### **Topic Hands On - 03**\n",
    "_Video Processing_\n",
    "\n",
    "### **Personal Identity**\n",
    "| **Student Name**  | Kevin Simorangkir      |\n",
    "|-------------------|----------------------- |\n",
    "| **ID Student**  | 121140150                |\n",
    "| **Major**     | Informatics Enginnering    |\n",
    "\n",
    "### **Language Version**\n",
    "_English_\n",
    "___\n"
   ]
  },
  {
   "cell_type": "markdown",
   "metadata": {},
   "source": [
    "Mempersiapkan `library` yang akan digunakan dalam `Hands On (HO) - 03` ini. `Library` yang akan digunakan adalah `OS`, `glob`, `cv2`, `numpy`, `matplotlib`, `dlib`, dan `datetime`."
   ]
  },
  {
   "cell_type": "code",
   "execution_count": 1,
   "metadata": {},
   "outputs": [],
   "source": [
    "import os #library OS untuk mengakses fungsi-fungsi yang terdapat dalam sistem operasi\n",
    "from glob import glob #library glob untuk mencari semua pathnames yang cocok dengan pola tertentu\n",
    "import numpy as np #library numpy untuk melakukan operasi vektor dan matriks\n",
    "import matplotlib.pyplot as plt #library matplotlib untuk membuat plot grafik\n",
    "import dlib #library dlib untuk mendeteksi wajah\n",
    "import datetime as dt #library datetime untuk mengolah data tanggal dan waktu"
   ]
  },
  {
   "cell_type": "markdown",
   "metadata": {},
   "source": [
    "Mengikuti tahap _Pre-requisite_, yaitu:\n",
    "1. Rekamlah sebuah video yang berdurasi kira-kira 60 detik dengan kamera ponsel. Toleransi durasi adalah 63 detik.\n",
    "2. Resolusi video haruslah tepat 1920x1080 dengan FPS 30.\n",
    "3. Gunakan tripod / phone holder agar video tetap stabil\n",
    "4. Pastikan merekam dalam kondisi pencahayaan yang cukup (cahaya alami matahari lebih disarankan)\n",
    "5. Anda harus duduk dengan tegak dan bersandar di kursi dan berada di tengah frame. Letakkan kedua tangan di atas lutut anda.\n",
    "6. Selama perekaman, mintalah teman / keluarga anda untuk menghitung berapa kali anda bernafas selama 60 detik. Bukan hanya sekedar menghitung, teman / keluarga anda harus mencatat pada detik keberapa anda mulai menghembuskan nafas. Oleh karena itu, pastikan teman / keluarga anda menggunakan stopwatch pada HP mereka. (Tekan `LAP` setiap kali anda mulai menghembuskan nafas).\n",
    "7. Pindahkan catatan tersebut ke dalam `csv` dengan format sebagai berikut:\n",
    "\n",
    "| Nafas-ke | Second | Milisecond |\n",
    "|----------|--------|-----------|\n",
    "| 1        | 0      | 0         |\n",
    "| 2        | 10     | 0         |\n",
    "\n",
    "8. Di detik ke 30, gerakkan kepala anda (menghadap ke kanan dan kiri) hanya satu kali saja"
   ]
  },
  {
   "cell_type": "markdown",
   "metadata": {},
   "source": [
    "### **Membuat Video Dari Gambar**\n",
    "Mencari dan mengidentifikasi letak dari gambar yang akan dijadikan sebuah video. File akan diambil dari direktori tersebut."
   ]
  }
 ],
 "metadata": {
  "kernelspec": {
   "display_name": "Python 3",
   "language": "python",
   "name": "python3"
  },
  "language_info": {
   "codemirror_mode": {
    "name": "ipython",
    "version": 3
   },
   "file_extension": ".py",
   "mimetype": "text/x-python",
   "name": "python",
   "nbconvert_exporter": "python",
   "pygments_lexer": "ipython3",
   "version": "3.12.4"
  }
 },
 "nbformat": 4,
 "nbformat_minor": 2
}
