{
 "cells": [
  {
   "cell_type": "markdown",
   "metadata": {},
   "source": [
    "# Hands On 2 - Image Processing\n",
    "---\n",
    "## Personal Identity\n",
    "| Subject         | Results            |\n",
    "|-----------------|--------------------|\n",
    "| Nama Mahasiswa  | Kevin Simorangkir  |\n",
    "| Kelas           | R                  |\n",
    "| NIM             | 121140150          |\n",
    "\n",
    "## Questions Instructions\n",
    "1. Dengan foto anda sendiri, lakukanlah eksperimen berikut ini. Editlah sebuah foto yang terdapat\n",
    "   wajah anda, namun kali ini tidak dengan photoshop, melainkan dengan python. Lakukan penyesuaian berikut ini.\n",
    "   - Lakukan resize untuk foto anda menjadi 1080 pada dimension terpanjangnya. Gunakan cv2.resize untuk melakukan resize.\n",
    "   - Buatlah frame berwarna kuning (RGB value: 255, 255, 0) sebesar 25 pixel + dua digit terakhir NIM anda pada setiap sisi foto anda. Frame tersebut akan mengelilingi foto setebal 25 pixel + dua digit terakhir NIM anda.\n",
    "   - Aturlah intensitas warna pada channel merah di bagian tengah (50 - 150), dan naikkan sebesar 20 poin\n",
    "   - Turunkanlah intensitas warna pada channel biru di atas (200- 250), dan turunkan sebesar 20 poin\n",
    "   - Tampilkanlah histogram dari foto tersebut\n",
    "   - Jelaskan hasil eksperimen anda\n",
    "\n",
    "2. Dengan foto anda sendiri, lakukanlah eksperimen berikut ini\n",
    "   - Convert image dari RGB menjadi Grayscale\n",
    "   - Tampilkan histogram dari foto tersebut\n",
    "   - Lakukanlah normalisasi level intensitas warna pada foto tersebut. Aturlah agar intensitas warna terendah menjadi 0, dan intensitas warna tertinggi menjadi 255\n",
    "   - Tampilkan histogram dari hasil normalisasi\n",
    "   - Buatlah pixel-art dari foto tersebut. Caranya adalah dengan mengubah intensitas warna menjadi 0 atau 255. Jika intensitas warna < 128, maka ubah menjadi 0, dan jika intensitas warna >= 128, maka ubah menjadi 255. Tunjukkan hasilnya\n",
    "\n",
    "3. Dengan foto anda sendiri, lakukanlah eksperimen berikut ini\n",
    "   - Naikkan kecerahan (brightnes) pada foto tersebut. Anda tidak boleh menggunakan library cv2 untuk menaikkan kecerahan. Anda hanya boleh menggunakan operasi matriks. Jelaskan langkah-langkah yang anda lakukan. Tampilkan histogram dari foto tersebut\n",
    "   - Turunkan saturasi warna pada foto tersebut. Anda tidak boleh menggunakan library cv2 untuk menurunkan saturasi warna. Anda hanya boleh menggunakan operasi matriks. Jelaskan langkah-langkah yang anda lakukan. Tampilkan histogram dari foto tersebut\n",
    "   - Turunkan kontras pada foto tersebut. Anda tidak boleh menggunakan library cv2 untuk menurunkan kontras. Anda hanya boleh menggunakan operasi matriks. Jelaskan langkah-langkah yang anda lakukan. Tampilkan histogram dari foto tersebut\n",
    "\n",
    "---"
   ]
  },
  {
   "cell_type": "markdown",
   "metadata": {},
   "source": [
    "### Question - 01\n",
    "1. Dengan foto anda sendiri, lakukanlah eksperimen berikut ini. Editlah sebuah foto yang terdapat\n",
    "   wajah anda, namun kali ini tidak dengan photoshop, melainkan dengan python. Lakukan penyesuaian berikut ini.\n",
    "   - Lakukan resize untuk foto anda menjadi 1080 pada dimension terpanjangnya. Gunakan cv2.resize untuk melakukan resize.\n",
    "   - Buatlah frame berwarna kuning (RGB value: 255, 255, 0) sebesar 25 pixel + dua digit terakhir NIM anda pada setiap sisi foto anda. Frame tersebut akan mengelilingi foto setebal 25 pixel + dua digit terakhir NIM anda.\n",
    "   - Aturlah intensitas warna pada channel merah di bagian tengah (50 - 150), dan naikkan sebesar 20 poin\n",
    "   - Turunkanlah intensitas warna pada channel biru di atas (200- 250), dan turunkan sebesar 20 poin\n",
    "   - Tampilkanlah histogram dari foto tersebut\n",
    "   - Jelaskan hasil eksperimen anda"
   ]
  },
  {
   "cell_type": "markdown",
   "metadata": {},
   "source": [
    "### Answer - 01"
   ]
  },
  {
   "cell_type": "markdown",
   "metadata": {},
   "source": [
    "1. Langkah pertama adalah menyiapkan pustaka yang akan digunakan. Dalam hal ini menggunakan 3 (tiga) pustaka yaitu `numpy` , `matplotlib.pyplot` , `cv2` ."
   ]
  },
  {
   "cell_type": "code",
   "execution_count": 10,
   "metadata": {},
   "outputs": [],
   "source": [
    "import numpy as np\n",
    "import matplotlib.pyplot as plt\n",
    "import cv2"
   ]
  },
  {
   "cell_type": "markdown",
   "metadata": {},
   "source": [
    "2. Memanggil gambar yang akan dieksekusi dalam kasus ini."
   ]
  },
  {
   "cell_type": "code",
   "execution_count": 11,
   "metadata": {},
   "outputs": [],
   "source": [
    "gambar = cv2.imread('Image/Kevin1.jpg')"
   ]
  },
  {
   "cell_type": "markdown",
   "metadata": {},
   "source": [
    "3. Melakukan _resize_ dengan memanggil beberapa fungsi dengan definisi dari `tinggi` dan `lebar` ."
   ]
  },
  {
   "cell_type": "code",
   "execution_count": 12,
   "metadata": {},
   "outputs": [],
   "source": [
    "tinggi, lebar = gambar.shape[:2]\n",
    "if tinggi > lebar:\n",
    "    tinggi_baru = 1080\n",
    "    lebar_baru = int(tinggi_baru / tinggi * lebar)\n",
    "else:\n",
    "    lebar_baru = 1080\n",
    "    tinggi_baru = int(lebar_baru / lebar * tinggi)"
   ]
  },
  {
   "cell_type": "markdown",
   "metadata": {},
   "source": [
    "4. Melakukan definisi dari gambar_baru yang terdiri dari lebar_baru dan tinggi_baru."
   ]
  },
  {
   "cell_type": "code",
   "execution_count": 13,
   "metadata": {},
   "outputs": [],
   "source": [
    "gambar_baru = cv2.resize(gambar, (lebar_baru, tinggi_baru))"
   ]
  },
  {
   "cell_type": "markdown",
   "metadata": {},
   "source": [
    "5. Membuat sebuah `variable` baru untuk penjelasan sebuah bingkai berwarna kuning yang dijelaskan dalam `variable` bingkai_kuning."
   ]
  },
  {
   "cell_type": "code",
   "execution_count": 14,
   "metadata": {},
   "outputs": [],
   "source": [
    "bingkai_tipis = 75 #25 + 50 = 75\n",
    "bingkai_kuning = cv2.copyMakeBorder(gambar_baru, bingkai_tipis, bingkai_tipis, bingkai_tipis, bingkai_tipis, cv2.BORDER_CONSTANT, value=[0, 255, 255])  # Kuning"
   ]
  },
  {
   "cell_type": "markdown",
   "metadata": {},
   "source": [
    "6. Membuat sebuah `variable` baru dengan kaitan channel merah yang akan berkorelasi dengan bingkai kuning."
   ]
  },
  {
   "cell_type": "code",
   "execution_count": 15,
   "metadata": {},
   "outputs": [],
   "source": [
    "channel_merah = bingkai_kuning[:, :, 2]\n",
    "mask_merah = (channel_merah >= 50) & (channel_merah <= 150)\n",
    "bingkai_kuning[:, :, 2][mask_merah] = np.clip(bingkai_kuning[:, :, 2][mask_merah] + 20, 0, 255)"
   ]
  },
  {
   "cell_type": "markdown",
   "metadata": {},
   "source": [
    "7. Membuat sebuah `variable` baru dengan kaitan channel_biru yang akan berkorelasi dengan bingkai kuning serta mask_biru."
   ]
  },
  {
   "cell_type": "code",
   "execution_count": 16,
   "metadata": {},
   "outputs": [],
   "source": [
    "channel_biru = bingkai_kuning[:, :, 0]\n",
    "mask_biru = (channel_biru >= 200) & (channel_biru <= 250)\n",
    "bingkai_kuning[:, :, 0][mask_biru] = np.clip(bingkai_kuning[:, :, 0][mask_biru] + 20, 0, 255)"
   ]
  },
  {
   "cell_type": "markdown",
   "metadata": {},
   "source": [
    "8. Menampilkan hasil gambar yang telah dimodifikasi melalui beberapa kodingan sebelumnya dan akan menampilkan dengan file **KEVINS_MODIFIKASI.JPG** yang ada di folder _Image_."
   ]
  },
  {
   "cell_type": "code",
   "execution_count": 17,
   "metadata": {},
   "outputs": [
    {
     "data": {
      "text/plain": [
       "True"
      ]
     },
     "execution_count": 17,
     "metadata": {},
     "output_type": "execute_result"
    }
   ],
   "source": [
    "cv2.imshow('Gambar Modifikasi', bingkai_kuning)\n",
    "cv2.waitKey(0)\n",
    "cv2.destroyAllWindows()\n",
    "cv2.imwrite('Image/KEVINS_MODIFIKASI.JPG', bingkai_kuning)"
   ]
  },
  {
   "cell_type": "markdown",
   "metadata": {},
   "source": [
    "9. Melakukan pemanggilan dalam pustaka `plt` untuk membuat sebuah histogram yang diminta serta mendefinisikan histogram tersebut."
   ]
  },
  {
   "cell_type": "code",
   "execution_count": 18,
   "metadata": {},
   "outputs": [
    {
     "data": {
      "image/png": "[encoded data removed]",
      "text/plain": [
       "<Figure size 640x480 with 1 Axes>"
      ]
     },
     "metadata": {},
     "output_type": "display_data"
    }
   ],
   "source": [
    "warna = ('b', 'g', 'r')\n",
    "for i, col in enumerate(warna):\n",
    "    histogram = cv2.calcHist([bingkai_kuning], [i], None, [256], [0, 256])\n",
    "    plt.title('Histogram Gambar Modifikasi')\n",
    "    plt.xlabel('Intensitas Warna')\n",
    "    plt.ylabel('Jumlah Piksel')\n",
    "    plt.grid()\n",
    "    plt.plot(histogram, color=col)\n",
    "    plt.xlim([0, 256])\n",
    "plt.show()"
   ]
  }
 ],
 "metadata": {
  "kernelspec": {
   "display_name": "Python 3",
   "language": "python",
   "name": "python3"
  },
  "language_info": {
   "codemirror_mode": {
    "name": "ipython",
    "version": 3
   },
   "file_extension": ".py",
   "mimetype": "text/x-python",
   "name": "python",
   "nbconvert_exporter": "python",
   "pygments_lexer": "ipython3",
   "version": "3.12.4"
  }
 },
 "nbformat": 4,
 "nbformat_minor": 2
}
