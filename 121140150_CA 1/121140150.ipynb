{
 "cells": [
  {
   "cell_type": "markdown",
   "metadata": {},
   "source": [
    "## Class Activity 1\n",
    "\n",
    "### Instruction\n",
    "1. Tutuplah bagian tulisan IF4021 dengan kotak warna merah. Gunakan format x,y,w,h untuk bagian ini.\n",
    "2. Tutuplah bagian pin / sticker yang ada di papan tulis dengan kotak warna kuning. Gunakan format box x1,y1,x2,y2 untuk ini."
   ]
  },
  {
   "cell_type": "code",
   "execution_count": 21,
   "metadata": {},
   "outputs": [],
   "source": [
    "import numpy as np\n",
    "import matplotlib.pyplot as plt\n",
    "import cv2\n",
    "import os"
   ]
  },
  {
   "cell_type": "code",
   "execution_count": 22,
   "metadata": {},
   "outputs": [
    {
     "ename": "NameError",
     "evalue": "name 'CA_1_IMG2' is not defined",
     "output_type": "error",
     "traceback": [
      "\u001b[1;31m---------------------------------------------------------------------------\u001b[0m",
      "\u001b[1;31mNameError\u001b[0m                                 Traceback (most recent call last)",
      "Cell \u001b[1;32mIn[22], line 17\u001b[0m\n\u001b[0;32m     13\u001b[0m cv2\u001b[38;5;241m.\u001b[39mrectangle(img2, (x1, y1), (x2, y2), yellow, \u001b[38;5;241m-\u001b[39m\u001b[38;5;241m1\u001b[39m)\n\u001b[0;32m     16\u001b[0m plt\u001b[38;5;241m.\u001b[39mfigure(figsize\u001b[38;5;241m=\u001b[39m(\u001b[38;5;241m8\u001b[39m, \u001b[38;5;241m8\u001b[39m))\n\u001b[1;32m---> 17\u001b[0m plt\u001b[38;5;241m.\u001b[39mimshow( CA_1_IMG2)\n\u001b[0;32m     18\u001b[0m plt\u001b[38;5;241m.\u001b[39maxis(\u001b[38;5;124m'\u001b[39m\u001b[38;5;124moff\u001b[39m\u001b[38;5;124m'\u001b[39m) \n\u001b[0;32m     19\u001b[0m plt\u001b[38;5;241m.\u001b[39mshow()\n",
      "\u001b[1;31mNameError\u001b[0m: name 'CA_1_IMG2' is not defined"
     ]
    },
    {
     "data": {
      "text/plain": [
       "<Figure size 800x800 with 0 Axes>"
      ]
     },
     "metadata": {},
     "output_type": "display_data"
    }
   ],
   "source": [
    "# Membaca gambar\n",
    "path_gambar2 = 'IMG IF4021.jpg'\n",
    "img2 = cv2.imread(path_gambar2)\n",
    "img2 = cv2.cvtColor(img2, cv2.COLOR_BGR2RGB)\n",
    "\n",
    "x, y, w, h = 800, 300, 320, 100  \n",
    "x1, y1, x2, y2 = 1220, 160, 1350, 230 \n",
    "\n",
    "red = [255, 0, 0]\n",
    "yellow = [255, 255, 0]\n",
    "\n",
    "cv2.rectangle(img2, (x, y), (x+w, y+h), red, -1)\n",
    "cv2.rectangle(img2, (x1, y1), (x2, y2), yellow, -1)\n",
    "\n",
    "\n",
    "plt.figure(figsize=(8, 8))\n",
    "plt.imshow(img2)\n",
    "plt.axis('off') \n",
    "plt.show()\n"
   ]
  }
 ],
 "metadata": {
  "kernelspec": {
   "display_name": "Python 3",
   "language": "python",
   "name": "python3"
  },
  "language_info": {
   "codemirror_mode": {
    "name": "ipython",
    "version": 3
   },
   "file_extension": ".py",
   "mimetype": "text/x-python",
   "name": "python",
   "nbconvert_exporter": "python",
   "pygments_lexer": "ipython3",
   "version": "3.12.4"
  }
 },
 "nbformat": 4,
 "nbformat_minor": 2
}
