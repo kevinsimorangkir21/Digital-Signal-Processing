{
 "cells": [
  {
   "cell_type": "markdown",
   "metadata": {},
   "source": [
    "## Class Activity 1\n",
    "\n",
    "### Instruction\n",
    "1. Tutuplah bagian tulisan IF4021 dengan kotak warna merah. Gunakan format x,y,w,h untuk bagian ini.\n",
    "2. Tutuplah bagian pin / sticker yang ada di papan tulis dengan kotak warna kuning. Gunakan format box x1,y1,x2,y2 untuk ini."
   ]
  },
  {
   "cell_type": "code",
   "execution_count": null,
   "metadata": {},
   "outputs": [],
   "source": [
    "import numpy as np\n",
    "import matplotlib.pyplot as plt\n",
    "import cv2\n",
    "import os\n",
    "\n",
    "path_gambar2 = os.path.join(os.getcwd(), 'data', 'IMG IF4021.jpg')\n",
    "img2 = cv2.imread(path_gambar2)\n",
    "img2 = cv2.cvtColor(img2, cv2.COLOR_BGR2RGB)\n",
    "\n",
    "# Ganti dengan koordinat yang Anda tentukan\n",
    "x, y, w, h = 100, 50, 50, 20  # Contoh koordinat untuk teks IF4021\n",
    "x1, y1, x2, y2 = 200, 100, 250, 150  # Contoh koordinat untuk pin/sticker\n",
    "\n",
    "red = [255, 0, 0]\n",
    "yellow = [255, 255, 0]\n",
    "\n",
    "# Membuat kotak merah\n",
    "cv2.rectangle(img2, (x, y), (x+w, y+h), red, -1)\n",
    "\n",
    "# Membuat kotak kuning\n",
    "cv2.rectangle(img2, (x1, y1), (x2, y2), yellow, -1)\n",
    "\n",
    "plt.imshow(img2)\n",
    "plt.show()"
   ]
  }
 ],
 "metadata": {
  "language_info": {
   "name": "python"
  }
 },
 "nbformat": 4,
 "nbformat_minor": 2
}
