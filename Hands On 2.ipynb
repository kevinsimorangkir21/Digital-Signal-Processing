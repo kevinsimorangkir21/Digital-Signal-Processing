{
 "cells": [
  {
   "cell_type": "markdown",
   "metadata": {},
   "source": [
    "# Hands On 2\n",
    "\n",
    "## ℹ️ Instruction\n",
    "Prove that there is a significant difference in audio visualization using 5 different audio sources:\n",
    "First, low voice. Second, relatively medium volume voice. Third, relatively high volume voice. Fourth, medium volume voice, but saying words with a long s (essssss). Fifth, medium volume voice, saying the word brrbrbrbrb / lip trill.\n",
    "Each please create a `wav / mp3 / flac` file that meets these requirements (5 files).\n",
    "Use `waveforms` and spectrograms to visualize the three audio sources. Provide your analysis of the differences in audio visualization."
   ]
  },
  {
   "cell_type": "markdown",
   "metadata": {
    "vscode": {
     "languageId": "plaintext"
    }
   },
   "source": [
    "## Installing Library\n",
    "Install a library that will be needed in this assignment, in this case the following are needed:\n",
    "- Library `numpy`\n",
    "- Library `matplotlib`\n",
    "- Library `OS`\n",
    "- Library `wave`\n",
    "\n",
    "Library Tool Command\n",
    "`!pip install matplotlib numpy wave`"
   ]
  },
  {
   "cell_type": "code",
   "execution_count": null,
   "metadata": {},
   "outputs": [],
   "source": [
    "import matplotlib.pyplot as plt\n",
    "import numpy as np\n",
    "import os\n",
    "import wave"
   ]
  },
  {
   "cell_type": "markdown",
   "metadata": {},
   "source": [
    "## Loading Audio Files\n",
    "Using Audio Files according to the given Instructions. The Audio Folder/Files can be seen in the path `./data` which has been categorized based on 3 levels, namely Soft, Medium, Loud."
   ]
  },
  {
   "cell_type": "code",
   "execution_count": null,
   "metadata": {},
   "outputs": [],
   "source": []
  }
 ],
 "metadata": {
  "language_info": {
   "name": "python"
  }
 },
 "nbformat": 4,
 "nbformat_minor": 2
}
